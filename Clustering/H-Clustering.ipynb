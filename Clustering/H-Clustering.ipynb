{
 "metadata": {
  "language_info": {
   "codemirror_mode": {
    "name": "ipython",
    "version": 3
   },
   "file_extension": ".py",
   "mimetype": "text/x-python",
   "name": "python",
   "nbconvert_exporter": "python",
   "pygments_lexer": "ipython3",
   "version": "3.8.5"
  },
  "orig_nbformat": 2,
  "kernelspec": {
   "name": "python385jvsc74a57bd0916dbcbb3f70747c44a77c7bcd40155683ae19c65e1c03b4aa3499c5328201f1",
   "display_name": "Python 3.8.5 64-bit ('usr')"
  }
 },
 "nbformat": 4,
 "nbformat_minor": 2,
 "cells": [
  {
   "cell_type": "code",
   "execution_count": 1,
   "metadata": {},
   "outputs": [],
   "source": [
    "import pandas as pd\n",
    "import matplotlib.pyplot as plt\n",
    "import numpy as np"
   ]
  },
  {
   "source": [
    "Importing Dataset"
   ],
   "cell_type": "markdown",
   "metadata": {}
  },
  {
   "cell_type": "code",
   "execution_count": 3,
   "metadata": {},
   "outputs": [
    {
     "output_type": "stream",
     "name": "stdout",
     "text": [
      "     CustomerID   Genre  Age  Annual Income (k$)  Spending Score (1-100)\n0             1    Male   19                  15                      39\n1             2    Male   21                  15                      81\n2             3  Female   20                  16                       6\n3             4  Female   23                  16                      77\n4             5  Female   31                  17                      40\n..          ...     ...  ...                 ...                     ...\n195         196  Female   35                 120                      79\n196         197  Female   45                 126                      28\n197         198    Male   32                 126                      74\n198         199    Male   32                 137                      18\n199         200    Male   30                 137                      83\n\n[200 rows x 5 columns]\n"
     ]
    }
   ],
   "source": [
    "dataset = pd.read_csv('Mall_Customers.csv')\n",
    "print(dataset)"
   ]
  },
  {
   "cell_type": "code",
   "execution_count": 7,
   "metadata": {},
   "outputs": [
    {
     "output_type": "stream",
     "name": "stdout",
     "text": [
      "[['Male' 19 15 39]\n ['Male' 21 15 81]\n ['Female' 20 16 6]\n ['Female' 23 16 77]\n ['Female' 31 17 40]\n ['Female' 22 17 76]\n ['Female' 35 18 6]\n ['Female' 23 18 94]\n ['Male' 64 19 3]\n ['Female' 30 19 72]\n ['Male' 67 19 14]\n ['Female' 35 19 99]\n ['Female' 58 20 15]\n ['Female' 24 20 77]\n ['Male' 37 20 13]\n ['Male' 22 20 79]\n ['Female' 35 21 35]\n ['Male' 20 21 66]\n ['Male' 52 23 29]\n ['Female' 35 23 98]\n ['Male' 35 24 35]\n ['Male' 25 24 73]\n ['Female' 46 25 5]\n ['Male' 31 25 73]\n ['Female' 54 28 14]\n ['Male' 29 28 82]\n ['Female' 45 28 32]\n ['Male' 35 28 61]\n ['Female' 40 29 31]\n ['Female' 23 29 87]\n ['Male' 60 30 4]\n ['Female' 21 30 73]\n ['Male' 53 33 4]\n ['Male' 18 33 92]\n ['Female' 49 33 14]\n ['Female' 21 33 81]\n ['Female' 42 34 17]\n ['Female' 30 34 73]\n ['Female' 36 37 26]\n ['Female' 20 37 75]\n ['Female' 65 38 35]\n ['Male' 24 38 92]\n ['Male' 48 39 36]\n ['Female' 31 39 61]\n ['Female' 49 39 28]\n ['Female' 24 39 65]\n ['Female' 50 40 55]\n ['Female' 27 40 47]\n ['Female' 29 40 42]\n ['Female' 31 40 42]\n ['Female' 49 42 52]\n ['Male' 33 42 60]\n ['Female' 31 43 54]\n ['Male' 59 43 60]\n ['Female' 50 43 45]\n ['Male' 47 43 41]\n ['Female' 51 44 50]\n ['Male' 69 44 46]\n ['Female' 27 46 51]\n ['Male' 53 46 46]\n ['Male' 70 46 56]\n ['Male' 19 46 55]\n ['Female' 67 47 52]\n ['Female' 54 47 59]\n ['Male' 63 48 51]\n ['Male' 18 48 59]\n ['Female' 43 48 50]\n ['Female' 68 48 48]\n ['Male' 19 48 59]\n ['Female' 32 48 47]\n ['Male' 70 49 55]\n ['Female' 47 49 42]\n ['Female' 60 50 49]\n ['Female' 60 50 56]\n ['Male' 59 54 47]\n ['Male' 26 54 54]\n ['Female' 45 54 53]\n ['Male' 40 54 48]\n ['Female' 23 54 52]\n ['Female' 49 54 42]\n ['Male' 57 54 51]\n ['Male' 38 54 55]\n ['Male' 67 54 41]\n ['Female' 46 54 44]\n ['Female' 21 54 57]\n ['Male' 48 54 46]\n ['Female' 55 57 58]\n ['Female' 22 57 55]\n ['Female' 34 58 60]\n ['Female' 50 58 46]\n ['Female' 68 59 55]\n ['Male' 18 59 41]\n ['Male' 48 60 49]\n ['Female' 40 60 40]\n ['Female' 32 60 42]\n ['Male' 24 60 52]\n ['Female' 47 60 47]\n ['Female' 27 60 50]\n ['Male' 48 61 42]\n ['Male' 20 61 49]\n ['Female' 23 62 41]\n ['Female' 49 62 48]\n ['Male' 67 62 59]\n ['Male' 26 62 55]\n ['Male' 49 62 56]\n ['Female' 21 62 42]\n ['Female' 66 63 50]\n ['Male' 54 63 46]\n ['Male' 68 63 43]\n ['Male' 66 63 48]\n ['Male' 65 63 52]\n ['Female' 19 63 54]\n ['Female' 38 64 42]\n ['Male' 19 64 46]\n ['Female' 18 65 48]\n ['Female' 19 65 50]\n ['Female' 63 65 43]\n ['Female' 49 65 59]\n ['Female' 51 67 43]\n ['Female' 50 67 57]\n ['Male' 27 67 56]\n ['Female' 38 67 40]\n ['Female' 40 69 58]\n ['Male' 39 69 91]\n ['Female' 23 70 29]\n ['Female' 31 70 77]\n ['Male' 43 71 35]\n ['Male' 40 71 95]\n ['Male' 59 71 11]\n ['Male' 38 71 75]\n ['Male' 47 71 9]\n ['Male' 39 71 75]\n ['Female' 25 72 34]\n ['Female' 31 72 71]\n ['Male' 20 73 5]\n ['Female' 29 73 88]\n ['Female' 44 73 7]\n ['Male' 32 73 73]\n ['Male' 19 74 10]\n ['Female' 35 74 72]\n ['Female' 57 75 5]\n ['Male' 32 75 93]\n ['Female' 28 76 40]\n ['Female' 32 76 87]\n ['Male' 25 77 12]\n ['Male' 28 77 97]\n ['Male' 48 77 36]\n ['Female' 32 77 74]\n ['Female' 34 78 22]\n ['Male' 34 78 90]\n ['Male' 43 78 17]\n ['Male' 39 78 88]\n ['Female' 44 78 20]\n ['Female' 38 78 76]\n ['Female' 47 78 16]\n ['Female' 27 78 89]\n ['Male' 37 78 1]\n ['Female' 30 78 78]\n ['Male' 34 78 1]\n ['Female' 30 78 73]\n ['Female' 56 79 35]\n ['Female' 29 79 83]\n ['Male' 19 81 5]\n ['Female' 31 81 93]\n ['Male' 50 85 26]\n ['Female' 36 85 75]\n ['Male' 42 86 20]\n ['Female' 33 86 95]\n ['Female' 36 87 27]\n ['Male' 32 87 63]\n ['Male' 40 87 13]\n ['Male' 28 87 75]\n ['Male' 36 87 10]\n ['Male' 36 87 92]\n ['Female' 52 88 13]\n ['Female' 30 88 86]\n ['Male' 58 88 15]\n ['Male' 27 88 69]\n ['Male' 59 93 14]\n ['Male' 35 93 90]\n ['Female' 37 97 32]\n ['Female' 32 97 86]\n ['Male' 46 98 15]\n ['Female' 29 98 88]\n ['Female' 41 99 39]\n ['Male' 30 99 97]\n ['Female' 54 101 24]\n ['Male' 28 101 68]\n ['Female' 41 103 17]\n ['Female' 36 103 85]\n ['Female' 34 103 23]\n ['Female' 32 103 69]\n ['Male' 33 113 8]\n ['Female' 38 113 91]\n ['Female' 47 120 16]\n ['Female' 35 120 79]\n ['Female' 45 126 28]\n ['Male' 32 126 74]\n ['Male' 32 137 18]\n ['Male' 30 137 83]]\n"
     ]
    }
   ],
   "source": [
    "X = dataset.iloc[:, 1:5].values\n",
    "print(X)"
   ]
  },
  {
   "cell_type": "code",
   "execution_count": null,
   "metadata": {},
   "outputs": [],
   "source": []
  }
 ]
}