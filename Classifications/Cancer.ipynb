{
 "metadata": {
  "language_info": {
   "codemirror_mode": {
    "name": "ipython",
    "version": 3
   },
   "file_extension": ".py",
   "mimetype": "text/x-python",
   "name": "python",
   "nbconvert_exporter": "python",
   "pygments_lexer": "ipython3",
   "version": "3.8.5"
  },
  "orig_nbformat": 2,
  "kernelspec": {
   "name": "python385jvsc74a57bd0916dbcbb3f70747c44a77c7bcd40155683ae19c65e1c03b4aa3499c5328201f1",
   "display_name": "Python 3.8.5 64-bit"
  }
 },
 "nbformat": 4,
 "nbformat_minor": 2,
 "cells": [
  {
   "cell_type": "code",
   "execution_count": 1,
   "metadata": {},
   "outputs": [],
   "source": [
    "import numpy as np\n",
    "import pandas as pd\n",
    "import matplotlib.pyplot as plt\n",
    "from sklearn.metrics import confusion_matrix, accuracy_score"
   ]
  },
  {
   "cell_type": "code",
   "execution_count": 2,
   "metadata": {},
   "outputs": [],
   "source": [
    "def printArray(y_pred, y_test):\n",
    "    y_pred = y_pred.reshape(len(y_pred), 1)\n",
    "    y_test = y_test.reshape(len(y_pred), 1)\n",
    "    print(np.concatenate((y_pred, y_test), 1))"
   ]
  },
  {
   "cell_type": "code",
   "execution_count": 3,
   "metadata": {},
   "outputs": [],
   "source": [
    "def printMetrics(y_test, y_pred):\n",
    "    print(f'Confusion matrix:\\n {confusion_matrix(y_test, y_pred)}')\n",
    "    print(f'Accuracy Score: {accuracy_score(y_test, y_pred)*100}%')\n",
    "    return accuracy_score(y_test, y_pred)*100;"
   ]
  },
  {
   "cell_type": "code",
   "execution_count": 4,
   "metadata": {},
   "outputs": [],
   "source": [
    "def printResults(accuracy_scores):\n",
    "    list = accuracy_scores.copy()\n",
    "    i=0\n",
    "    print('*    Model And Accuracy:')\n",
    "    for element in list:\n",
    "        print(f'{i+1}. {element[0]}: {element[1]}')\n",
    "        i=i+1\n",
    "    print(\"*    Best Three Models: \")\n",
    "    max = list[0]\n",
    "    for i in range(3):\n",
    "        for element in list:\n",
    "            if(element[1] > max[1]):\n",
    "                max = element\n",
    "        print(f'{i+1}. {max[0]}: {max[1]}')\n",
    "        list.remove(max)\n",
    "        max = list[0]"
   ]
  },
  {
   "cell_type": "code",
   "execution_count": 5,
   "metadata": {},
   "outputs": [],
   "source": [
    "accuracy_scores = []"
   ]
  },
  {
   "cell_type": "code",
   "execution_count": 6,
   "metadata": {},
   "outputs": [],
   "source": [
    "dataset = pd.read_csv('Cancer_Data.csv')"
   ]
  },
  {
   "cell_type": "code",
   "execution_count": 7,
   "metadata": {},
   "outputs": [],
   "source": [
    "X = dataset.iloc[:, 1:-1].values\n",
    "y = dataset.iloc[:, -1].values"
   ]
  },
  {
   "cell_type": "code",
   "execution_count": 8,
   "metadata": {},
   "outputs": [],
   "source": [
    "from sklearn.model_selection import train_test_split\n",
    "X_train, X_test, y_train, y_test = train_test_split(X, y, train_size=0.70, random_state=0)"
   ]
  },
  {
   "cell_type": "code",
   "execution_count": 9,
   "metadata": {},
   "outputs": [],
   "source": [
    "from sklearn.preprocessing import StandardScaler\n",
    "sc = StandardScaler()\n",
    "sc.fit(X_train)\n",
    "X_train = sc.transform(X_train)\n",
    "X_test = sc.transform(X_test)"
   ]
  },
  {
   "cell_type": "code",
   "execution_count": 10,
   "metadata": {},
   "outputs": [],
   "source": [
    "#START OF LOGISTIC REGRESSION"
   ]
  },
  {
   "cell_type": "code",
   "execution_count": 11,
   "metadata": {},
   "outputs": [
    {
     "output_type": "execute_result",
     "data": {
      "text/plain": [
       "LogisticRegression(random_state=0)"
      ]
     },
     "metadata": {},
     "execution_count": 11
    }
   ],
   "source": [
    "from sklearn.linear_model import LogisticRegression\n",
    "LR_Classifier = LogisticRegression(random_state=0)\n",
    "LR_Classifier.fit(X_train, y_train)"
   ]
  },
  {
   "cell_type": "code",
   "execution_count": 12,
   "metadata": {},
   "outputs": [
    {
     "output_type": "stream",
     "name": "stdout",
     "text": [
      "[[2 2]\n [2 2]\n [4 4]\n [4 4]\n [2 2]\n [2 2]\n [2 2]\n [4 4]\n [2 2]\n [2 2]\n [4 4]\n [2 2]\n [4 4]\n [2 2]\n [2 2]\n [2 2]\n [4 4]\n [4 4]\n [4 4]\n [2 2]\n [2 2]\n [2 2]\n [4 4]\n [2 2]\n [4 4]\n [4 4]\n [2 2]\n [2 2]\n [2 2]\n [4 4]\n [2 2]\n [4 4]\n [4 4]\n [2 2]\n [2 2]\n [2 2]\n [4 4]\n [4 4]\n [2 2]\n [4 4]\n [2 2]\n [2 2]\n [2 2]\n [2 2]\n [2 2]\n [2 2]\n [2 2]\n [4 4]\n [2 2]\n [2 2]\n [4 4]\n [2 2]\n [4 4]\n [2 2]\n [2 2]\n [2 2]\n [4 4]\n [4 2]\n [2 2]\n [4 4]\n [2 2]\n [2 2]\n [2 2]\n [2 2]\n [2 2]\n [2 2]\n [2 2]\n [2 2]\n [4 4]\n [4 4]\n [2 2]\n [2 2]\n [2 2]\n [2 2]\n [2 2]\n [2 2]\n [4 4]\n [2 2]\n [2 2]\n [2 2]\n [4 4]\n [2 2]\n [4 4]\n [2 2]\n [2 2]\n [4 4]\n [2 2]\n [4 2]\n [4 4]\n [2 2]\n [4 4]\n [2 2]\n [4 4]\n [4 4]\n [2 4]\n [4 2]\n [4 4]\n [4 4]\n [4 4]\n [2 2]\n [2 2]\n [2 2]\n [4 4]\n [4 4]\n [2 2]\n [2 2]\n [4 4]\n [2 4]\n [2 2]\n [2 2]\n [4 4]\n [2 2]\n [2 2]\n [4 4]\n [2 2]\n [2 2]\n [2 2]\n [2 4]\n [2 2]\n [2 2]\n [2 2]\n [4 4]\n [2 2]\n [2 2]\n [4 4]\n [4 4]\n [2 2]\n [4 4]\n [2 2]\n [4 4]\n [2 2]\n [2 2]\n [4 4]\n [2 2]\n [2 2]\n [4 4]\n [2 2]\n [4 4]\n [2 2]\n [2 2]\n [2 2]\n [4 4]\n [2 2]\n [2 2]\n [2 2]\n [4 2]\n [4 4]\n [2 2]\n [4 4]\n [2 2]\n [4 4]\n [2 4]\n [2 2]\n [2 2]\n [2 2]\n [2 2]\n [4 4]\n [4 4]\n [2 2]\n [4 4]\n [4 4]\n [4 4]\n [4 4]\n [2 4]\n [4 4]\n [2 2]\n [2 2]\n [2 2]\n [2 2]\n [2 2]\n [2 2]\n [4 4]\n [4 4]\n [4 4]\n [2 2]\n [2 2]\n [2 2]\n [4 4]\n [2 2]\n [2 2]\n [4 4]\n [4 4]\n [2 2]\n [4 4]\n [2 2]\n [2 2]\n [4 4]\n [4 4]\n [2 2]\n [2 2]\n [2 2]\n [2 2]\n [2 2]\n [2 2]\n [2 2]\n [2 2]\n [2 2]\n [2 2]\n [4 4]\n [2 2]\n [2 2]\n [2 2]\n [2 2]\n [2 2]\n [4 4]]\n"
     ]
    }
   ],
   "source": [
    "y_pred = LR_Classifier.predict(X_test)\n",
    "printArray(y_pred, y_test)"
   ]
  },
  {
   "cell_type": "code",
   "execution_count": 13,
   "metadata": {},
   "outputs": [
    {
     "output_type": "stream",
     "name": "stdout",
     "text": [
      "Confusion matrix:\n [[126   4]\n [  5  70]]\nAccuracy Score: 95.60975609756098%\n"
     ]
    }
   ],
   "source": [
    "accuracy_scores += [('Logistic Regression', printMetrics(y_test, y_pred))]"
   ]
  },
  {
   "cell_type": "code",
   "execution_count": 14,
   "metadata": {},
   "outputs": [],
   "source": [
    "#END OF LOGISTIC REGRESSION\n",
    "#START OF SVM"
   ]
  },
  {
   "cell_type": "code",
   "execution_count": 15,
   "metadata": {},
   "outputs": [
    {
     "output_type": "execute_result",
     "data": {
      "text/plain": [
       "SVC(kernel='linear', random_state=0)"
      ]
     },
     "metadata": {},
     "execution_count": 15
    }
   ],
   "source": [
    "from sklearn.svm import SVC\n",
    "svm_Classifier = SVC(kernel='linear', random_state=0)\n",
    "svm_Classifier.fit(X_train, y_train)"
   ]
  },
  {
   "cell_type": "code",
   "execution_count": 16,
   "metadata": {},
   "outputs": [
    {
     "output_type": "stream",
     "name": "stdout",
     "text": [
      "[[2 2]\n [2 2]\n [4 4]\n [4 4]\n [2 2]\n [2 2]\n [2 2]\n [4 4]\n [2 2]\n [2 2]\n [4 4]\n [2 2]\n [4 4]\n [2 2]\n [2 2]\n [2 2]\n [4 4]\n [4 4]\n [4 4]\n [2 2]\n [2 2]\n [2 2]\n [4 4]\n [2 2]\n [4 4]\n [4 4]\n [2 2]\n [2 2]\n [2 2]\n [4 4]\n [2 2]\n [4 4]\n [4 4]\n [2 2]\n [2 2]\n [2 2]\n [4 4]\n [4 4]\n [2 2]\n [4 4]\n [2 2]\n [2 2]\n [2 2]\n [2 2]\n [2 2]\n [2 2]\n [2 2]\n [4 4]\n [2 2]\n [2 2]\n [4 4]\n [2 2]\n [4 4]\n [2 2]\n [2 2]\n [2 2]\n [4 4]\n [4 2]\n [2 2]\n [4 4]\n [2 2]\n [2 2]\n [2 2]\n [2 2]\n [2 2]\n [2 2]\n [2 2]\n [2 2]\n [4 4]\n [4 4]\n [2 2]\n [2 2]\n [2 2]\n [2 2]\n [2 2]\n [2 2]\n [4 4]\n [2 2]\n [2 2]\n [2 2]\n [4 4]\n [2 2]\n [4 4]\n [2 2]\n [2 2]\n [4 4]\n [2 2]\n [4 2]\n [4 4]\n [2 2]\n [4 4]\n [2 2]\n [4 4]\n [4 4]\n [2 4]\n [4 2]\n [4 4]\n [4 4]\n [4 4]\n [2 2]\n [2 2]\n [2 2]\n [4 4]\n [4 4]\n [2 2]\n [2 2]\n [4 4]\n [4 4]\n [2 2]\n [2 2]\n [4 4]\n [2 2]\n [2 2]\n [4 4]\n [2 2]\n [2 2]\n [2 2]\n [2 4]\n [2 2]\n [2 2]\n [2 2]\n [4 4]\n [2 2]\n [2 2]\n [4 4]\n [4 4]\n [2 2]\n [4 4]\n [2 2]\n [4 4]\n [2 2]\n [2 2]\n [4 4]\n [2 2]\n [2 2]\n [4 4]\n [2 2]\n [4 4]\n [2 2]\n [2 2]\n [2 2]\n [4 4]\n [2 2]\n [2 2]\n [2 2]\n [4 2]\n [4 4]\n [2 2]\n [4 4]\n [2 2]\n [4 4]\n [2 4]\n [2 2]\n [2 2]\n [2 2]\n [2 2]\n [4 4]\n [4 4]\n [2 2]\n [4 4]\n [4 4]\n [4 4]\n [4 4]\n [2 4]\n [4 4]\n [2 2]\n [2 2]\n [2 2]\n [2 2]\n [2 2]\n [2 2]\n [4 4]\n [4 4]\n [4 4]\n [2 2]\n [2 2]\n [2 2]\n [4 4]\n [2 2]\n [2 2]\n [4 4]\n [4 4]\n [2 2]\n [4 4]\n [2 2]\n [2 2]\n [4 4]\n [4 4]\n [2 2]\n [2 2]\n [2 2]\n [2 2]\n [2 2]\n [2 2]\n [2 2]\n [2 2]\n [2 2]\n [2 2]\n [4 4]\n [2 2]\n [2 2]\n [2 2]\n [2 2]\n [2 2]\n [4 4]]\n"
     ]
    }
   ],
   "source": [
    "y_pred = svm_Classifier.predict(X_test)\n",
    "printArray(y_pred, y_test)"
   ]
  },
  {
   "cell_type": "code",
   "execution_count": 17,
   "metadata": {},
   "outputs": [
    {
     "output_type": "stream",
     "name": "stdout",
     "text": [
      "Confusion matrix:\n [[126   4]\n [  4  71]]\nAccuracy Score: 96.09756097560975%\n"
     ]
    }
   ],
   "source": [
    "accuracy_scores += [('SVM', printMetrics(y_test, y_pred))]"
   ]
  },
  {
   "cell_type": "code",
   "execution_count": 18,
   "metadata": {},
   "outputs": [],
   "source": [
    "#END OF SVM\n",
    "#START OF K-NN"
   ]
  },
  {
   "cell_type": "code",
   "execution_count": 19,
   "metadata": {},
   "outputs": [
    {
     "output_type": "execute_result",
     "data": {
      "text/plain": [
       "KNeighborsClassifier(n_neighbors=10)"
      ]
     },
     "metadata": {},
     "execution_count": 19
    }
   ],
   "source": [
    "from sklearn.neighbors import KNeighborsClassifier\n",
    "knn_Classifier = KNeighborsClassifier(n_neighbors=10, metric='minkowski')\n",
    "knn_Classifier.fit(X_train, y_train)"
   ]
  },
  {
   "cell_type": "code",
   "execution_count": 20,
   "metadata": {},
   "outputs": [
    {
     "output_type": "stream",
     "name": "stdout",
     "text": [
      "[[2 2]\n [2 2]\n [4 4]\n [4 4]\n [2 2]\n [2 2]\n [2 2]\n [4 4]\n [2 2]\n [2 2]\n [4 4]\n [2 2]\n [4 4]\n [2 2]\n [2 2]\n [2 2]\n [4 4]\n [4 4]\n [4 4]\n [2 2]\n [2 2]\n [2 2]\n [4 4]\n [2 2]\n [4 4]\n [4 4]\n [2 2]\n [2 2]\n [2 2]\n [4 4]\n [2 2]\n [4 4]\n [4 4]\n [2 2]\n [2 2]\n [2 2]\n [4 4]\n [4 4]\n [2 2]\n [4 4]\n [2 2]\n [2 2]\n [2 2]\n [2 2]\n [2 2]\n [2 2]\n [2 2]\n [4 4]\n [2 2]\n [2 2]\n [4 4]\n [2 2]\n [4 4]\n [2 2]\n [2 2]\n [2 2]\n [4 4]\n [4 2]\n [2 2]\n [4 4]\n [2 2]\n [2 2]\n [2 2]\n [2 2]\n [2 2]\n [2 2]\n [2 2]\n [2 2]\n [4 4]\n [4 4]\n [2 2]\n [2 2]\n [2 2]\n [2 2]\n [2 2]\n [2 2]\n [4 4]\n [2 2]\n [2 2]\n [2 2]\n [4 4]\n [2 2]\n [4 4]\n [2 2]\n [2 2]\n [4 4]\n [2 2]\n [4 2]\n [4 4]\n [2 2]\n [4 4]\n [2 2]\n [4 4]\n [4 4]\n [2 4]\n [4 2]\n [4 4]\n [4 4]\n [4 4]\n [2 2]\n [2 2]\n [2 2]\n [4 4]\n [4 4]\n [2 2]\n [2 2]\n [4 4]\n [2 4]\n [2 2]\n [2 2]\n [4 4]\n [2 2]\n [2 2]\n [4 4]\n [2 2]\n [2 2]\n [2 2]\n [2 4]\n [2 2]\n [2 2]\n [2 2]\n [4 4]\n [2 2]\n [2 2]\n [4 4]\n [4 4]\n [2 2]\n [4 4]\n [2 2]\n [4 4]\n [2 2]\n [2 2]\n [4 4]\n [2 2]\n [2 2]\n [4 4]\n [2 2]\n [4 4]\n [2 2]\n [2 2]\n [2 2]\n [4 4]\n [2 2]\n [2 2]\n [2 2]\n [4 2]\n [4 4]\n [2 2]\n [4 4]\n [2 2]\n [4 4]\n [2 4]\n [2 2]\n [2 2]\n [2 2]\n [2 2]\n [4 4]\n [4 4]\n [2 2]\n [4 4]\n [4 4]\n [4 4]\n [4 4]\n [2 4]\n [4 4]\n [2 2]\n [2 2]\n [2 2]\n [2 2]\n [2 2]\n [2 2]\n [4 4]\n [4 4]\n [4 4]\n [2 2]\n [2 2]\n [2 2]\n [4 4]\n [2 2]\n [2 2]\n [4 4]\n [2 4]\n [2 2]\n [4 4]\n [2 2]\n [2 2]\n [4 4]\n [4 4]\n [2 2]\n [2 2]\n [2 2]\n [2 2]\n [2 2]\n [2 2]\n [2 2]\n [2 2]\n [2 2]\n [2 2]\n [4 4]\n [2 2]\n [2 2]\n [2 2]\n [2 2]\n [2 2]\n [4 4]]\n"
     ]
    }
   ],
   "source": [
    "y_pred = knn_Classifier.predict(X_test)\n",
    "printArray(y_pred, y_test)"
   ]
  },
  {
   "cell_type": "code",
   "execution_count": 21,
   "metadata": {},
   "outputs": [
    {
     "output_type": "stream",
     "name": "stdout",
     "text": [
      "Confusion matrix:\n [[126   4]\n [  6  69]]\nAccuracy Score: 95.1219512195122%\n"
     ]
    }
   ],
   "source": [
    "accuracy_scores += [('KNN', printMetrics(y_test, y_pred))]"
   ]
  },
  {
   "cell_type": "code",
   "execution_count": 22,
   "metadata": {},
   "outputs": [],
   "source": [
    "#END OF KNN\n",
    "#START OF KERNEL SVM"
   ]
  },
  {
   "cell_type": "code",
   "execution_count": 23,
   "metadata": {},
   "outputs": [
    {
     "output_type": "execute_result",
     "data": {
      "text/plain": [
       "SVC(random_state=0)"
      ]
     },
     "metadata": {},
     "execution_count": 23
    }
   ],
   "source": [
    "from sklearn.svm import SVC\n",
    "svm_Classifier2 = SVC(kernel='rbf', random_state=0)\n",
    "svm_Classifier2.fit(X_train, y_train)"
   ]
  },
  {
   "cell_type": "code",
   "execution_count": 24,
   "metadata": {},
   "outputs": [
    {
     "output_type": "stream",
     "name": "stdout",
     "text": [
      "[[2 2]\n [2 2]\n [4 4]\n [4 4]\n [2 2]\n [2 2]\n [2 2]\n [4 4]\n [2 2]\n [2 2]\n [4 4]\n [2 2]\n [4 4]\n [2 2]\n [2 2]\n [4 2]\n [4 4]\n [4 4]\n [4 4]\n [2 2]\n [2 2]\n [2 2]\n [4 4]\n [2 2]\n [4 4]\n [4 4]\n [2 2]\n [2 2]\n [2 2]\n [4 4]\n [2 2]\n [4 4]\n [4 4]\n [2 2]\n [2 2]\n [2 2]\n [4 4]\n [4 4]\n [2 2]\n [4 4]\n [2 2]\n [2 2]\n [2 2]\n [2 2]\n [2 2]\n [2 2]\n [2 2]\n [4 4]\n [2 2]\n [2 2]\n [4 4]\n [2 2]\n [4 4]\n [2 2]\n [2 2]\n [2 2]\n [4 4]\n [4 2]\n [2 2]\n [4 4]\n [2 2]\n [2 2]\n [2 2]\n [2 2]\n [2 2]\n [2 2]\n [2 2]\n [2 2]\n [4 4]\n [4 4]\n [2 2]\n [2 2]\n [2 2]\n [2 2]\n [2 2]\n [2 2]\n [4 4]\n [2 2]\n [2 2]\n [2 2]\n [4 4]\n [2 2]\n [4 4]\n [2 2]\n [2 2]\n [4 4]\n [2 2]\n [4 2]\n [4 4]\n [2 2]\n [4 4]\n [2 2]\n [4 4]\n [4 4]\n [2 4]\n [4 2]\n [4 4]\n [4 4]\n [4 4]\n [2 2]\n [2 2]\n [2 2]\n [4 4]\n [4 4]\n [2 2]\n [2 2]\n [4 4]\n [4 4]\n [2 2]\n [2 2]\n [4 4]\n [2 2]\n [2 2]\n [4 4]\n [2 2]\n [2 2]\n [2 2]\n [4 4]\n [2 2]\n [2 2]\n [2 2]\n [4 4]\n [2 2]\n [2 2]\n [4 4]\n [4 4]\n [2 2]\n [4 4]\n [2 2]\n [4 4]\n [4 2]\n [2 2]\n [4 4]\n [2 2]\n [2 2]\n [4 4]\n [2 2]\n [4 4]\n [2 2]\n [2 2]\n [2 2]\n [4 4]\n [2 2]\n [2 2]\n [2 2]\n [4 2]\n [4 4]\n [2 2]\n [4 4]\n [2 2]\n [4 4]\n [2 4]\n [2 2]\n [2 2]\n [2 2]\n [2 2]\n [4 4]\n [4 4]\n [2 2]\n [4 4]\n [4 4]\n [4 4]\n [4 4]\n [2 4]\n [4 4]\n [2 2]\n [2 2]\n [2 2]\n [2 2]\n [2 2]\n [2 2]\n [4 4]\n [4 4]\n [4 4]\n [2 2]\n [2 2]\n [2 2]\n [4 4]\n [2 2]\n [2 2]\n [4 4]\n [4 4]\n [2 2]\n [4 4]\n [4 2]\n [2 2]\n [4 4]\n [4 4]\n [2 2]\n [2 2]\n [2 2]\n [2 2]\n [2 2]\n [2 2]\n [2 2]\n [2 2]\n [2 2]\n [2 2]\n [4 4]\n [2 2]\n [2 2]\n [2 2]\n [2 2]\n [2 2]\n [4 4]]\n"
     ]
    }
   ],
   "source": [
    "y_pred = svm_Classifier2.predict(X_test)\n",
    "printArray(y_pred, y_test)"
   ]
  },
  {
   "cell_type": "code",
   "execution_count": 25,
   "metadata": {},
   "outputs": [
    {
     "output_type": "stream",
     "name": "stdout",
     "text": [
      "Confusion matrix:\n [[123   7]\n [  3  72]]\nAccuracy Score: 95.1219512195122%\n"
     ]
    }
   ],
   "source": [
    "accuracy_scores += [('Kernel SVM', printMetrics(y_test, y_pred))]"
   ]
  },
  {
   "cell_type": "code",
   "execution_count": 26,
   "metadata": {},
   "outputs": [],
   "source": [
    "#END OF KERNEL SVM\n",
    "#START OF RANDOM FOREST CLASSIFIER"
   ]
  },
  {
   "cell_type": "code",
   "execution_count": 27,
   "metadata": {},
   "outputs": [
    {
     "output_type": "execute_result",
     "data": {
      "text/plain": [
       "RandomForestClassifier(criterion='entropy', random_state=0)"
      ]
     },
     "metadata": {},
     "execution_count": 27
    }
   ],
   "source": [
    "from sklearn.ensemble import RandomForestClassifier\n",
    "RF_Classifier = RandomForestClassifier(criterion='entropy', n_estimators=100, random_state=0)\n",
    "RF_Classifier.fit(X_train, y_train)"
   ]
  },
  {
   "cell_type": "code",
   "execution_count": 28,
   "metadata": {},
   "outputs": [
    {
     "output_type": "stream",
     "name": "stdout",
     "text": [
      "[[2 2]\n [2 2]\n [4 4]\n [4 4]\n [2 2]\n [2 2]\n [2 2]\n [4 4]\n [2 2]\n [2 2]\n [4 4]\n [2 2]\n [4 4]\n [2 2]\n [2 2]\n [2 2]\n [4 4]\n [4 4]\n [4 4]\n [2 2]\n [2 2]\n [2 2]\n [4 4]\n [2 2]\n [4 4]\n [4 4]\n [2 2]\n [2 2]\n [2 2]\n [4 4]\n [2 2]\n [4 4]\n [4 4]\n [2 2]\n [2 2]\n [2 2]\n [4 4]\n [4 4]\n [2 2]\n [4 4]\n [2 2]\n [2 2]\n [2 2]\n [2 2]\n [2 2]\n [2 2]\n [2 2]\n [4 4]\n [2 2]\n [2 2]\n [4 4]\n [2 2]\n [4 4]\n [2 2]\n [2 2]\n [2 2]\n [4 4]\n [4 2]\n [2 2]\n [4 4]\n [2 2]\n [2 2]\n [2 2]\n [2 2]\n [2 2]\n [2 2]\n [2 2]\n [2 2]\n [4 4]\n [4 4]\n [2 2]\n [2 2]\n [2 2]\n [2 2]\n [2 2]\n [2 2]\n [4 4]\n [2 2]\n [2 2]\n [2 2]\n [4 4]\n [2 2]\n [4 4]\n [2 2]\n [2 2]\n [4 4]\n [2 2]\n [4 2]\n [4 4]\n [2 2]\n [4 4]\n [2 2]\n [4 4]\n [4 4]\n [2 4]\n [4 2]\n [4 4]\n [4 4]\n [2 4]\n [2 2]\n [2 2]\n [2 2]\n [4 4]\n [4 4]\n [2 2]\n [2 2]\n [4 4]\n [2 4]\n [2 2]\n [2 2]\n [4 4]\n [2 2]\n [2 2]\n [4 4]\n [2 2]\n [2 2]\n [2 2]\n [4 4]\n [2 2]\n [2 2]\n [2 2]\n [4 4]\n [2 2]\n [2 2]\n [4 4]\n [4 4]\n [2 2]\n [4 4]\n [2 2]\n [4 4]\n [2 2]\n [2 2]\n [4 4]\n [2 2]\n [2 2]\n [4 4]\n [2 2]\n [4 4]\n [2 2]\n [2 2]\n [2 2]\n [4 4]\n [2 2]\n [2 2]\n [2 2]\n [4 2]\n [4 4]\n [2 2]\n [4 4]\n [2 2]\n [4 4]\n [2 4]\n [2 2]\n [2 2]\n [2 2]\n [2 2]\n [4 4]\n [4 4]\n [2 2]\n [4 4]\n [4 4]\n [4 4]\n [4 4]\n [2 4]\n [4 4]\n [2 2]\n [2 2]\n [2 2]\n [2 2]\n [2 2]\n [2 2]\n [4 4]\n [4 4]\n [4 4]\n [2 2]\n [2 2]\n [2 2]\n [4 4]\n [2 2]\n [2 2]\n [4 4]\n [2 4]\n [2 2]\n [4 4]\n [2 2]\n [2 2]\n [4 4]\n [4 4]\n [2 2]\n [2 2]\n [2 2]\n [2 2]\n [2 2]\n [2 2]\n [2 2]\n [2 2]\n [2 2]\n [2 2]\n [4 4]\n [2 2]\n [2 2]\n [2 2]\n [2 2]\n [2 2]\n [4 4]]\n"
     ]
    }
   ],
   "source": [
    "y_pred = RF_Classifier.predict(X_test)\r\n",
    "printArray(y_pred, y_test)"
   ]
  },
  {
   "cell_type": "code",
   "execution_count": 29,
   "metadata": {},
   "outputs": [
    {
     "output_type": "stream",
     "name": "stdout",
     "text": [
      "Confusion matrix:\n [[126   4]\n [  6  69]]\nAccuracy Score: 95.1219512195122%\n"
     ]
    }
   ],
   "source": [
    "accuracy_scores += [('Random Forest Classifier', printMetrics(y_test, y_pred))]"
   ]
  },
  {
   "cell_type": "code",
   "execution_count": 30,
   "metadata": {},
   "outputs": [],
   "source": [
    "#END OF RANDOM FOREST CLASSIFIER\n",
    "#START OF DECISION TREE CLASSIFICATION"
   ]
  },
  {
   "cell_type": "code",
   "execution_count": 31,
   "metadata": {},
   "outputs": [
    {
     "output_type": "execute_result",
     "data": {
      "text/plain": [
       "DecisionTreeClassifier(criterion='entropy', random_state=0)"
      ]
     },
     "metadata": {},
     "execution_count": 31
    }
   ],
   "source": [
    "from sklearn.tree import DecisionTreeClassifier\n",
    "DT_Clssifier = DecisionTreeClassifier(criterion='entropy', random_state=0)\n",
    "DT_Clssifier.fit(X_train, y_train)"
   ]
  },
  {
   "cell_type": "code",
   "execution_count": 32,
   "metadata": {},
   "outputs": [
    {
     "output_type": "stream",
     "name": "stdout",
     "text": [
      "[[2 2]\n [2 2]\n [4 4]\n [4 4]\n [2 2]\n [2 2]\n [2 2]\n [4 4]\n [2 2]\n [2 2]\n [4 4]\n [2 2]\n [4 4]\n [2 2]\n [2 2]\n [2 2]\n [4 4]\n [4 4]\n [4 4]\n [2 2]\n [2 2]\n [2 2]\n [4 4]\n [2 2]\n [4 4]\n [4 4]\n [2 2]\n [2 2]\n [2 2]\n [4 4]\n [2 2]\n [4 4]\n [4 4]\n [2 2]\n [2 2]\n [2 2]\n [4 4]\n [4 4]\n [2 2]\n [4 4]\n [2 2]\n [2 2]\n [2 2]\n [2 2]\n [2 2]\n [2 2]\n [2 2]\n [4 4]\n [2 2]\n [2 2]\n [4 4]\n [2 2]\n [4 4]\n [2 2]\n [2 2]\n [2 2]\n [4 4]\n [4 2]\n [2 2]\n [4 4]\n [2 2]\n [2 2]\n [2 2]\n [2 2]\n [2 2]\n [2 2]\n [2 2]\n [2 2]\n [4 4]\n [4 4]\n [2 2]\n [2 2]\n [2 2]\n [2 2]\n [2 2]\n [2 2]\n [4 4]\n [2 2]\n [2 2]\n [2 2]\n [4 4]\n [2 2]\n [4 4]\n [2 2]\n [2 2]\n [4 4]\n [2 2]\n [4 2]\n [4 4]\n [2 2]\n [4 4]\n [2 2]\n [4 4]\n [2 4]\n [4 4]\n [2 2]\n [4 4]\n [4 4]\n [2 4]\n [2 2]\n [2 2]\n [2 2]\n [4 4]\n [4 4]\n [2 2]\n [2 2]\n [4 4]\n [4 4]\n [2 2]\n [2 2]\n [4 4]\n [2 2]\n [2 2]\n [4 4]\n [2 2]\n [4 2]\n [2 2]\n [2 4]\n [2 2]\n [2 2]\n [2 2]\n [4 4]\n [2 2]\n [2 2]\n [4 4]\n [4 4]\n [2 2]\n [4 4]\n [2 2]\n [4 4]\n [2 2]\n [2 2]\n [4 4]\n [2 2]\n [2 2]\n [4 4]\n [2 2]\n [4 4]\n [2 2]\n [2 2]\n [2 2]\n [2 4]\n [2 2]\n [2 2]\n [2 2]\n [4 2]\n [4 4]\n [2 2]\n [4 4]\n [2 2]\n [4 4]\n [2 4]\n [2 2]\n [2 2]\n [2 2]\n [2 2]\n [4 4]\n [4 4]\n [2 2]\n [4 4]\n [4 4]\n [4 4]\n [4 4]\n [2 4]\n [4 4]\n [2 2]\n [2 2]\n [2 2]\n [2 2]\n [2 2]\n [2 2]\n [4 4]\n [4 4]\n [4 4]\n [2 2]\n [2 2]\n [2 2]\n [4 4]\n [2 2]\n [2 2]\n [4 4]\n [2 4]\n [2 2]\n [4 4]\n [2 2]\n [2 2]\n [4 4]\n [4 4]\n [2 2]\n [2 2]\n [2 2]\n [2 2]\n [2 2]\n [2 2]\n [2 2]\n [2 2]\n [2 2]\n [2 2]\n [4 4]\n [2 2]\n [2 2]\n [2 2]\n [2 2]\n [2 2]\n [4 4]]\n"
     ]
    }
   ],
   "source": [
    "y_pred = DT_Clssifier.predict(X_test)\n",
    "printArray(y_pred, y_test)"
   ]
  },
  {
   "cell_type": "code",
   "execution_count": 33,
   "metadata": {},
   "outputs": [
    {
     "output_type": "stream",
     "name": "stdout",
     "text": [
      "Confusion matrix:\n [[126   4]\n [  7  68]]\nAccuracy Score: 94.6341463414634%\n"
     ]
    }
   ],
   "source": [
    "accuracy_scores += [('Decision Tree Classification', printMetrics(y_test, y_pred))]"
   ]
  },
  {
   "cell_type": "code",
   "execution_count": 34,
   "metadata": {},
   "outputs": [],
   "source": [
    "#END OF DECISION TREE CLASSIFICATION"
   ]
  },
  {
   "cell_type": "code",
   "execution_count": 35,
   "metadata": {},
   "outputs": [
    {
     "output_type": "stream",
     "name": "stdout",
     "text": [
      "*    Model And Accuracy:\n1. Logistic Regression: 95.60975609756098\n2. SVM: 96.09756097560975\n3. KNN: 95.1219512195122\n4. Kernel SVM: 95.1219512195122\n5. Random Forest Classifier: 95.1219512195122\n6. Decision Tree Classification: 94.6341463414634\n*    Best Three Models: \n1. SVM: 96.09756097560975\n2. Logistic Regression: 95.60975609756098\n3. KNN: 95.1219512195122\n[('Kernel SVM', 95.1219512195122), ('Random Forest Classifier', 95.1219512195122), ('Decision Tree Classification', 94.6341463414634)]\n"
     ]
    }
   ],
   "source": [
    "printResults(accuracy_scores)\n",
    "print(accuracy_scores)"
   ]
  },
  {
   "cell_type": "code",
   "execution_count": null,
   "metadata": {},
   "outputs": [],
   "source": []
  }
 ]
}