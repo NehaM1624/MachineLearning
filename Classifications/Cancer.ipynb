{
 "metadata": {
  "language_info": {
   "codemirror_mode": {
    "name": "ipython",
    "version": 3
   },
   "file_extension": ".py",
   "mimetype": "text/x-python",
   "name": "python",
   "nbconvert_exporter": "python",
   "pygments_lexer": "ipython3",
   "version": "3.8.5"
  },
  "orig_nbformat": 2,
  "kernelspec": {
   "name": "python385jvsc74a57bd0916dbcbb3f70747c44a77c7bcd40155683ae19c65e1c03b4aa3499c5328201f1",
   "display_name": "Python 3.8.5 64-bit"
  }
 },
 "nbformat": 4,
 "nbformat_minor": 2,
 "cells": [
  {
   "cell_type": "code",
   "execution_count": 1,
   "metadata": {},
   "outputs": [],
   "source": [
    "import numpy as np\n",
    "import pandas as pd\n",
    "import matplotlib.pyplot as plt"
   ]
  },
  {
   "cell_type": "code",
   "execution_count": 2,
   "metadata": {},
   "outputs": [
    {
     "output_type": "stream",
     "name": "stdout",
     "text": [
      "     Sample code number  Clump Thickness  Uniformity of Cell Size  \\\n0               1000025                5                        1   \n1               1002945                5                        4   \n2               1015425                3                        1   \n3               1016277                6                        8   \n4               1017023                4                        1   \n..                  ...              ...                      ...   \n678              776715                3                        1   \n679              841769                2                        1   \n680              888820                5                       10   \n681              897471                4                        8   \n682              897471                4                        8   \n\n     Uniformity of Cell Shape  Marginal Adhesion  Single Epithelial Cell Size  \\\n0                           1                  1                            2   \n1                           4                  5                            7   \n2                           1                  1                            2   \n3                           8                  1                            3   \n4                           1                  3                            2   \n..                        ...                ...                          ...   \n678                         1                  1                            3   \n679                         1                  1                            2   \n680                        10                  3                            7   \n681                         6                  4                            3   \n682                         8                  5                            4   \n\n     Bare Nuclei  Bland Chromatin  Normal Nucleoli  Mitoses  Class  \n0              1                3                1        1      2  \n1             10                3                2        1      2  \n2              2                3                1        1      2  \n3              4                3                7        1      2  \n4              1                3                1        1      2  \n..           ...              ...              ...      ...    ...  \n678            2                1                1        1      2  \n679            1                1                1        1      2  \n680            3                8               10        2      4  \n681            4               10                6        1      4  \n682            5               10                4        1      4  \n\n[683 rows x 11 columns]\n"
     ]
    }
   ],
   "source": [
    "dataset = pd.read_csv('Cancer_Data.csv')\n",
    "print(dataset)"
   ]
  },
  {
   "cell_type": "code",
   "execution_count": 3,
   "metadata": {},
   "outputs": [],
   "source": [
    "X = dataset.iloc[:, 1:-1].values\n",
    "y = dataset.iloc[:, -1].values\n"
   ]
  },
  {
   "cell_type": "code",
   "execution_count": 4,
   "metadata": {},
   "outputs": [
    {
     "output_type": "stream",
     "name": "stdout",
     "text": [
      "[[ 5  1  1 ...  3  1  1]\n [ 5  4  4 ...  3  2  1]\n [ 3  1  1 ...  3  1  1]\n ...\n [ 5 10 10 ...  8 10  2]\n [ 4  8  6 ... 10  6  1]\n [ 4  8  8 ... 10  4  1]]\n"
     ]
    }
   ],
   "source": [
    "print(X)"
   ]
  },
  {
   "cell_type": "code",
   "execution_count": 5,
   "metadata": {},
   "outputs": [
    {
     "output_type": "stream",
     "name": "stdout",
     "text": [
      "[2 2 2 2 2 4 2 2 2 2 2 2 4 2 4 4 2 2 4 2 4 4 2 2 4 2 2 2 2 2 2 4 2 2 2 4 2\n 4 4 4 4 4 4 2 4 2 2 4 4 4 4 4 4 4 4 4 4 4 4 2 4 4 2 4 2 4 4 2 2 4 2 4 4 2\n 2 2 2 2 2 2 2 2 4 4 4 4 2 2 2 2 2 2 2 2 2 2 4 4 4 4 2 4 4 4 4 4 2 4 2 4 4\n 4 2 2 2 4 2 2 2 2 4 4 4 2 4 2 4 2 2 2 4 2 2 2 2 2 2 2 2 4 2 2 4 2 2 4 2 4\n 4 2 2 4 2 2 4 4 2 2 2 2 4 4 2 2 2 2 2 4 4 4 2 4 2 4 2 2 2 4 4 2 4 4 4 2 4\n 4 2 2 2 2 2 2 2 2 4 4 2 2 2 4 4 2 2 2 4 4 2 4 4 4 2 2 4 2 2 4 4 4 4 2 4 4\n 2 4 4 4 2 4 2 4 4 4 4 2 2 2 2 2 2 4 4 2 2 4 2 4 4 4 2 2 2 2 4 4 4 4 4 2 4\n 4 4 2 4 2 4 4 2 2 2 2 4 2 2 4 4 4 4 4 2 4 4 2 2 4 4 2 2 4 4 2 4 2 4 4 2 2\n 4 2 2 2 4 2 2 4 4 2 2 4 2 4 2 2 4 2 4 4 4 2 2 4 4 2 4 2 2 4 4 2 2 2 4 2 2\n 2 4 4 2 2 2 4 2 2 4 4 4 4 4 4 2 2 2 2 4 4 2 2 2 2 2 2 2 2 2 2 2 2 2 4 2 2\n 2 2 4 2 2 2 2 4 2 2 2 2 2 2 2 2 4 2 2 2 2 2 2 2 2 2 2 4 2 4 2 4 2 2 2 2 4\n 2 2 2 4 2 4 2 2 2 2 2 2 2 4 4 2 2 2 4 2 2 2 2 2 2 2 2 4 2 2 2 4 2 4 4 4 2\n 2 2 2 2 2 2 4 4 4 2 2 2 2 2 2 2 2 2 2 2 4 2 2 4 4 2 2 2 4 4 4 2 4 2 4 2 2\n 2 2 2 2 2 2 2 2 2 2 4 2 2 2 2 2 2 2 4 4 2 2 2 4 2 2 4 4 2 2 2 2 2 2 4 2 2\n 2 2 2 2 2 2 2 2 2 2 2 2 2 4 2 2 4 2 2 2 2 2 2 2 2 2 2 2 2 2 2 2 4 2 2 4 4\n 4 4 2 2 4 2 2 2 2 2 2 4 4 2 2 2 4 2 4 2 4 4 4 2 4 2 2 2 2 2 2 2 2 4 4 4 2\n 2 4 2 4 4 4 2 2 2 2 2 2 2 2 2 2 2 2 4 2 2 2 2 2 2 4 2 2 4 2 2 2 2 2 2 2 2\n 2 2 2 4 2 2 2 2 2 2 2 2 2 4 2 2 2 2 2 2 2 2 2 4 4 4 2 2 2 2 2 2 2 2 2 4 4\n 2 2 2 2 2 2 2 2 2 4 2 2 2 2 4 4 4]\n"
     ]
    }
   ],
   "source": [
    "print(y)"
   ]
  },
  {
   "cell_type": "code",
   "execution_count": 6,
   "metadata": {},
   "outputs": [],
   "source": [
    "from sklearn.model_selection import train_test_split\n",
    "X_train, X_test, y_train, y_test = train_test_split(X, y, train_size=0.70, random_state=1)"
   ]
  },
  {
   "cell_type": "code",
   "execution_count": 7,
   "metadata": {},
   "outputs": [],
   "source": [
    "from sklearn.preprocessing import StandardScaler\n",
    "sc = StandardScaler()\n",
    "sc.fit(X_train)\n",
    "X_train = sc.transform(X_train)\n",
    "X_test = sc.transform(X_test)"
   ]
  },
  {
   "cell_type": "code",
   "execution_count": 8,
   "metadata": {},
   "outputs": [],
   "source": [
    "#START OF LOGISTIC REGRESSION"
   ]
  },
  {
   "cell_type": "code",
   "execution_count": 9,
   "metadata": {},
   "outputs": [
    {
     "output_type": "execute_result",
     "data": {
      "text/plain": [
       "LogisticRegression(random_state=0)"
      ]
     },
     "metadata": {},
     "execution_count": 9
    }
   ],
   "source": [
    "from sklearn.linear_model import LogisticRegression\n",
    "LR_Classifier = LogisticRegression(random_state=0)\n",
    "LR_Classifier.fit(X_train, y_train)"
   ]
  },
  {
   "cell_type": "code",
   "execution_count": 10,
   "metadata": {},
   "outputs": [
    {
     "output_type": "stream",
     "name": "stdout",
     "text": [
      "[[2 2]\n [2 2]\n [2 2]\n [4 4]\n [2 2]\n [4 4]\n [2 2]\n [2 2]\n [4 4]\n [4 4]\n [2 2]\n [2 2]\n [4 4]\n [2 4]\n [2 2]\n [4 4]\n [2 2]\n [2 2]\n [2 2]\n [2 2]\n [2 2]\n [2 2]\n [2 2]\n [4 4]\n [4 4]\n [2 2]\n [2 2]\n [2 2]\n [4 4]\n [4 4]\n [2 2]\n [2 2]\n [4 4]\n [4 4]\n [2 2]\n [4 4]\n [2 2]\n [2 2]\n [4 4]\n [4 4]\n [4 4]\n [2 2]\n [2 2]\n [4 4]\n [2 2]\n [2 2]\n [2 2]\n [2 2]\n [4 4]\n [2 2]\n [2 2]\n [2 2]\n [4 4]\n [2 2]\n [2 2]\n [2 2]\n [4 4]\n [2 2]\n [2 2]\n [2 2]\n [2 4]\n [4 4]\n [2 2]\n [2 2]\n [2 2]\n [4 4]\n [2 2]\n [4 4]\n [4 4]\n [2 2]\n [2 2]\n [4 4]\n [2 2]\n [2 2]\n [4 4]\n [2 2]\n [2 2]\n [2 2]\n [2 2]\n [2 2]\n [2 2]\n [2 2]\n [4 4]\n [2 2]\n [4 4]\n [4 4]\n [2 2]\n [2 2]\n [2 2]\n [4 4]\n [2 2]\n [2 2]\n [4 4]\n [2 2]\n [2 2]\n [4 4]\n [4 4]\n [2 2]\n [2 2]\n [4 4]\n [2 2]\n [2 2]\n [4 4]\n [4 4]\n [2 2]\n [2 2]\n [2 2]\n [2 2]\n [4 4]\n [2 2]\n [4 4]\n [4 4]\n [2 2]\n [4 4]\n [2 2]\n [4 4]\n [2 2]\n [2 2]\n [2 2]\n [2 2]\n [4 4]\n [2 2]\n [4 4]\n [2 2]\n [2 2]\n [2 2]\n [2 2]\n [2 2]\n [4 4]\n [2 2]\n [2 2]\n [2 2]\n [2 2]\n [2 2]\n [2 2]\n [2 2]\n [4 4]\n [2 2]\n [4 4]\n [4 4]\n [2 4]\n [2 2]\n [4 4]\n [2 2]\n [2 2]\n [2 2]\n [2 2]\n [4 4]\n [2 2]\n [2 2]\n [2 2]\n [2 2]\n [2 2]\n [4 4]\n [2 2]\n [4 4]\n [2 2]\n [4 4]\n [2 2]\n [2 2]\n [4 4]\n [2 2]\n [4 4]\n [2 2]\n [4 4]\n [4 4]\n [2 2]\n [4 4]\n [2 2]\n [2 2]\n [2 2]\n [2 2]\n [2 2]\n [4 4]\n [2 2]\n [4 4]\n [4 4]\n [4 2]\n [4 4]\n [2 2]\n [4 4]\n [2 2]\n [2 2]\n [4 4]\n [2 2]\n [4 4]\n [4 4]\n [2 2]\n [2 2]\n [2 2]\n [2 4]\n [2 2]\n [4 2]\n [4 2]\n [2 2]\n [2 2]\n [2 2]\n [4 4]\n [2 2]\n [2 2]\n [4 4]\n [2 2]\n [4 4]\n [2 2]\n [4 2]]\n"
     ]
    }
   ],
   "source": [
    "y_pred = LR_Classifier.predict(X_test)\n",
    "y_pred_ = y_pred.reshape(len(y_pred), 1)\n",
    "y_test_ = y_test.reshape(len(y_pred), 1)\n",
    "print(np.concatenate((y_pred_, y_test_), 1))"
   ]
  },
  {
   "cell_type": "code",
   "execution_count": 11,
   "metadata": {},
   "outputs": [
    {
     "output_type": "stream",
     "name": "stdout",
     "text": [
      "Confusion matrix:\n [[129   4]\n [  4  68]]\nAccuracy Score: 96.09756097560975%\n"
     ]
    }
   ],
   "source": [
    "from sklearn.metrics import confusion_matrix, accuracy_score\n",
    "print(f'Confusion matrix:\\n {confusion_matrix(y_test, y_pred)}')\n",
    "print(f'Accuracy Score: {accuracy_score(y_test, y_pred)*100}%')"
   ]
  },
  {
   "cell_type": "code",
   "execution_count": 12,
   "metadata": {},
   "outputs": [],
   "source": [
    "#END OF LOGISTIC REGRESSION\n",
    "#START OF SVM"
   ]
  },
  {
   "cell_type": "code",
   "execution_count": 13,
   "metadata": {},
   "outputs": [
    {
     "output_type": "execute_result",
     "data": {
      "text/plain": [
       "SVC(kernel='linear', random_state=0)"
      ]
     },
     "metadata": {},
     "execution_count": 13
    }
   ],
   "source": [
    "from sklearn.svm import SVC\n",
    "svm_Classifier = SVC(kernel='linear', random_state=0)\n",
    "svm_Classifier.fit(X_train, y_train)"
   ]
  },
  {
   "cell_type": "code",
   "execution_count": 14,
   "metadata": {},
   "outputs": [
    {
     "output_type": "stream",
     "name": "stdout",
     "text": [
      "[[2 2]\n [2 2]\n [2 2]\n [4 4]\n [2 2]\n [4 4]\n [2 2]\n [2 2]\n [4 4]\n [4 4]\n [2 2]\n [2 2]\n [4 4]\n [2 4]\n [2 2]\n [4 4]\n [2 2]\n [2 2]\n [2 2]\n [2 2]\n [2 2]\n [2 2]\n [2 2]\n [4 4]\n [4 4]\n [2 2]\n [2 2]\n [2 2]\n [4 4]\n [4 4]\n [2 2]\n [2 2]\n [4 4]\n [4 4]\n [2 2]\n [4 4]\n [2 2]\n [2 2]\n [4 4]\n [4 4]\n [4 4]\n [2 2]\n [2 2]\n [4 4]\n [2 2]\n [2 2]\n [2 2]\n [2 2]\n [4 4]\n [2 2]\n [2 2]\n [2 2]\n [4 4]\n [2 2]\n [2 2]\n [2 2]\n [4 4]\n [2 2]\n [2 2]\n [2 2]\n [2 4]\n [4 4]\n [2 2]\n [2 2]\n [2 2]\n [4 4]\n [2 2]\n [4 4]\n [4 4]\n [2 2]\n [2 2]\n [4 4]\n [2 2]\n [2 2]\n [4 4]\n [2 2]\n [2 2]\n [2 2]\n [2 2]\n [2 2]\n [2 2]\n [2 2]\n [4 4]\n [2 2]\n [4 4]\n [4 4]\n [2 2]\n [2 2]\n [2 2]\n [4 4]\n [2 2]\n [2 2]\n [4 4]\n [2 2]\n [2 2]\n [4 4]\n [4 4]\n [2 2]\n [2 2]\n [4 4]\n [2 2]\n [2 2]\n [4 4]\n [4 4]\n [2 2]\n [2 2]\n [2 2]\n [2 2]\n [4 4]\n [2 2]\n [4 4]\n [4 4]\n [2 2]\n [4 4]\n [2 2]\n [4 4]\n [2 2]\n [2 2]\n [2 2]\n [2 2]\n [4 4]\n [2 2]\n [4 4]\n [2 2]\n [2 2]\n [2 2]\n [2 2]\n [2 2]\n [4 4]\n [2 2]\n [2 2]\n [2 2]\n [2 2]\n [2 2]\n [2 2]\n [2 2]\n [4 4]\n [2 2]\n [4 4]\n [4 4]\n [2 4]\n [2 2]\n [4 4]\n [2 2]\n [2 2]\n [2 2]\n [2 2]\n [4 4]\n [2 2]\n [2 2]\n [2 2]\n [2 2]\n [2 2]\n [4 4]\n [2 2]\n [4 4]\n [2 2]\n [4 4]\n [2 2]\n [2 2]\n [4 4]\n [2 2]\n [4 4]\n [2 2]\n [4 4]\n [4 4]\n [2 2]\n [4 4]\n [2 2]\n [2 2]\n [2 2]\n [2 2]\n [2 2]\n [4 4]\n [2 2]\n [4 4]\n [4 4]\n [4 2]\n [4 4]\n [2 2]\n [4 4]\n [2 2]\n [2 2]\n [4 4]\n [2 2]\n [4 4]\n [4 4]\n [2 2]\n [2 2]\n [2 2]\n [2 4]\n [2 2]\n [4 2]\n [4 2]\n [2 2]\n [2 2]\n [2 2]\n [4 4]\n [2 2]\n [2 2]\n [4 4]\n [2 2]\n [4 4]\n [2 2]\n [4 2]]\n"
     ]
    }
   ],
   "source": [
    "y_pred = svm_Classifier.predict(X_test)\n",
    "y_pred_ = y_pred.reshape(len(y_pred), 1)\n",
    "print(np.concatenate((y_pred_, y_test_), 1))"
   ]
  },
  {
   "cell_type": "code",
   "execution_count": 15,
   "metadata": {},
   "outputs": [
    {
     "output_type": "stream",
     "name": "stdout",
     "text": [
      "Confusion matrix:\n [[129   4]\n [  4  68]]\nAccuracy Score: 96.09756097560975%\n"
     ]
    }
   ],
   "source": [
    "from sklearn.metrics import confusion_matrix, accuracy_score\n",
    "print(f'Confusion matrix:\\n {confusion_matrix(y_test, y_pred)}')\n",
    "print(f'Accuracy Score: {accuracy_score(y_test, y_pred)*100}%')"
   ]
  },
  {
   "cell_type": "code",
   "execution_count": 16,
   "metadata": {},
   "outputs": [],
   "source": [
    "#END OF SVM\n",
    "#START OF K-NN"
   ]
  },
  {
   "cell_type": "code",
   "execution_count": 17,
   "metadata": {},
   "outputs": [
    {
     "output_type": "execute_result",
     "data": {
      "text/plain": [
       "KNeighborsClassifier(n_neighbors=10)"
      ]
     },
     "metadata": {},
     "execution_count": 17
    }
   ],
   "source": [
    "from sklearn.neighbors import KNeighborsClassifier\n",
    "knn_Classifier = KNeighborsClassifier(n_neighbors=10, metric='minkowski')\n",
    "knn_Classifier.fit(X_train, y_train)"
   ]
  },
  {
   "cell_type": "code",
   "execution_count": 18,
   "metadata": {},
   "outputs": [
    {
     "output_type": "stream",
     "name": "stdout",
     "text": [
      "[[2 2]\n [2 2]\n [2 2]\n [4 4]\n [2 2]\n [4 4]\n [2 2]\n [2 2]\n [4 4]\n [4 4]\n [2 2]\n [2 2]\n [4 4]\n [4 4]\n [2 2]\n [4 4]\n [2 2]\n [2 2]\n [2 2]\n [2 2]\n [2 2]\n [2 2]\n [2 2]\n [4 4]\n [4 4]\n [2 2]\n [2 2]\n [2 2]\n [4 4]\n [4 4]\n [2 2]\n [2 2]\n [4 4]\n [4 4]\n [2 2]\n [4 4]\n [2 2]\n [2 2]\n [4 4]\n [4 4]\n [4 4]\n [2 2]\n [2 2]\n [4 4]\n [2 2]\n [2 2]\n [2 2]\n [2 2]\n [4 4]\n [2 2]\n [2 2]\n [2 2]\n [4 4]\n [2 2]\n [2 2]\n [2 2]\n [4 4]\n [2 2]\n [2 2]\n [2 2]\n [4 4]\n [4 4]\n [2 2]\n [2 2]\n [2 2]\n [4 4]\n [2 2]\n [4 4]\n [4 4]\n [2 2]\n [2 2]\n [4 4]\n [2 2]\n [2 2]\n [4 4]\n [2 2]\n [2 2]\n [2 2]\n [2 2]\n [2 2]\n [2 2]\n [2 2]\n [4 4]\n [2 2]\n [4 4]\n [4 4]\n [2 2]\n [2 2]\n [2 2]\n [4 4]\n [2 2]\n [2 2]\n [4 4]\n [2 2]\n [2 2]\n [4 4]\n [4 4]\n [2 2]\n [2 2]\n [4 4]\n [2 2]\n [2 2]\n [4 4]\n [4 4]\n [2 2]\n [2 2]\n [2 2]\n [2 2]\n [4 4]\n [2 2]\n [4 4]\n [4 4]\n [2 2]\n [4 4]\n [2 2]\n [4 4]\n [2 2]\n [2 2]\n [2 2]\n [2 2]\n [4 4]\n [2 2]\n [4 4]\n [2 2]\n [2 2]\n [2 2]\n [2 2]\n [2 2]\n [4 4]\n [2 2]\n [2 2]\n [2 2]\n [2 2]\n [2 2]\n [2 2]\n [2 2]\n [4 4]\n [2 2]\n [4 4]\n [4 4]\n [2 4]\n [2 2]\n [4 4]\n [2 2]\n [2 2]\n [2 2]\n [2 2]\n [4 4]\n [2 2]\n [2 2]\n [2 2]\n [2 2]\n [2 2]\n [4 4]\n [2 2]\n [4 4]\n [2 2]\n [4 4]\n [2 2]\n [2 2]\n [4 4]\n [2 2]\n [4 4]\n [2 2]\n [4 4]\n [4 4]\n [2 2]\n [4 4]\n [2 2]\n [2 2]\n [2 2]\n [2 2]\n [2 2]\n [4 4]\n [2 2]\n [4 4]\n [4 4]\n [4 2]\n [4 4]\n [2 2]\n [4 4]\n [2 2]\n [2 2]\n [4 4]\n [2 2]\n [4 4]\n [4 4]\n [2 2]\n [2 2]\n [2 2]\n [2 4]\n [2 2]\n [4 2]\n [4 2]\n [2 2]\n [2 2]\n [2 2]\n [4 4]\n [2 2]\n [2 2]\n [4 4]\n [2 2]\n [4 4]\n [2 2]\n [4 2]]\n"
     ]
    }
   ],
   "source": [
    "y_pred = knn_Classifier.predict(X_test)\n",
    "y_pred_ = y_pred.reshape(len(y_pred), 1)\n",
    "print(np.concatenate((y_pred_, y_test_), 1))"
   ]
  },
  {
   "cell_type": "code",
   "execution_count": 19,
   "metadata": {},
   "outputs": [
    {
     "output_type": "stream",
     "name": "stdout",
     "text": [
      "Confusion matrix:\n",
      " [[129   4]\n",
      " [  2  70]]\n",
      "Accuracy Score: 97.07317073170731%\n"
     ]
    }
   ],
   "source": [
    "from sklearn.metrics import confusion_matrix, accuracy_score\n",
    "print(f'Confusion matrix:\\n {confusion_matrix(y_test, y_pred)}')\n",
    "print(f'Accuracy Score: {accuracy_score(y_test, y_pred)*100}%')"
   ]
  },
  {
   "cell_type": "code",
   "execution_count": 20,
   "metadata": {},
   "outputs": [],
   "source": [
    "#END OF KNN\n",
    "#START OF KERNEL SVM"
   ]
  },
  {
   "cell_type": "code",
   "execution_count": 21,
   "metadata": {},
   "outputs": [
    {
     "output_type": "execute_result",
     "data": {
      "text/plain": [
       "SVC(random_state=0)"
      ]
     },
     "metadata": {},
     "execution_count": 21
    }
   ],
   "source": [
    "from sklearn.svm import SVC\n",
    "svm_Classifier2 = SVC(kernel='rbf', random_state=0)\n",
    "svm_Classifier2.fit(X_train, y_train)"
   ]
  },
  {
   "cell_type": "code",
   "execution_count": 22,
   "metadata": {},
   "outputs": [
    {
     "output_type": "stream",
     "name": "stdout",
     "text": [
      "[[2 2]\n [2 2]\n [2 2]\n [4 4]\n [2 2]\n [4 4]\n [2 2]\n [2 2]\n [4 4]\n [4 4]\n [2 2]\n [2 2]\n [4 4]\n [4 4]\n [2 2]\n [4 4]\n [2 2]\n [2 2]\n [2 2]\n [2 2]\n [2 2]\n [2 2]\n [2 2]\n [4 4]\n [4 4]\n [2 2]\n [2 2]\n [2 2]\n [4 4]\n [4 4]\n [2 2]\n [2 2]\n [4 4]\n [4 4]\n [2 2]\n [4 4]\n [2 2]\n [2 2]\n [4 4]\n [4 4]\n [4 4]\n [2 2]\n [2 2]\n [4 4]\n [2 2]\n [2 2]\n [2 2]\n [2 2]\n [4 4]\n [2 2]\n [2 2]\n [2 2]\n [4 4]\n [2 2]\n [2 2]\n [2 2]\n [4 4]\n [2 2]\n [2 2]\n [2 2]\n [4 4]\n [4 4]\n [2 2]\n [2 2]\n [2 2]\n [4 4]\n [2 2]\n [4 4]\n [4 4]\n [2 2]\n [2 2]\n [4 4]\n [2 2]\n [2 2]\n [4 4]\n [2 2]\n [2 2]\n [2 2]\n [2 2]\n [2 2]\n [2 2]\n [2 2]\n [4 4]\n [2 2]\n [4 4]\n [4 4]\n [2 2]\n [2 2]\n [2 2]\n [4 4]\n [2 2]\n [2 2]\n [4 4]\n [2 2]\n [2 2]\n [4 4]\n [4 4]\n [2 2]\n [2 2]\n [4 4]\n [2 2]\n [2 2]\n [4 4]\n [4 4]\n [2 2]\n [2 2]\n [2 2]\n [2 2]\n [4 4]\n [2 2]\n [4 4]\n [4 4]\n [2 2]\n [4 4]\n [2 2]\n [4 4]\n [2 2]\n [2 2]\n [2 2]\n [2 2]\n [4 4]\n [2 2]\n [4 4]\n [2 2]\n [2 2]\n [2 2]\n [2 2]\n [2 2]\n [4 4]\n [2 2]\n [2 2]\n [2 2]\n [2 2]\n [2 2]\n [2 2]\n [2 2]\n [4 4]\n [2 2]\n [4 4]\n [4 4]\n [2 4]\n [2 2]\n [4 4]\n [2 2]\n [2 2]\n [2 2]\n [2 2]\n [4 4]\n [2 2]\n [2 2]\n [2 2]\n [2 2]\n [2 2]\n [4 4]\n [2 2]\n [4 4]\n [2 2]\n [4 4]\n [2 2]\n [2 2]\n [4 4]\n [2 2]\n [4 4]\n [2 2]\n [4 4]\n [4 4]\n [2 2]\n [4 4]\n [2 2]\n [2 2]\n [2 2]\n [2 2]\n [2 2]\n [4 4]\n [2 2]\n [4 4]\n [4 4]\n [4 2]\n [4 4]\n [2 2]\n [4 4]\n [2 2]\n [2 2]\n [4 4]\n [2 2]\n [4 4]\n [4 4]\n [2 2]\n [2 2]\n [2 2]\n [2 4]\n [2 2]\n [4 2]\n [4 2]\n [2 2]\n [2 2]\n [2 2]\n [4 4]\n [2 2]\n [2 2]\n [4 4]\n [2 2]\n [4 4]\n [2 2]\n [4 2]]\n"
     ]
    }
   ],
   "source": [
    "y_pred = knn_Classifier.predict(X_test)\n",
    "y_pred_ = y_pred.reshape(len(y_pred), 1)\n",
    "print(np.concatenate((y_pred_, y_test_), 1))"
   ]
  },
  {
   "cell_type": "code",
   "execution_count": 23,
   "metadata": {},
   "outputs": [
    {
     "output_type": "stream",
     "name": "stdout",
     "text": [
      "Confusion matrix:\n [[129   4]\n [  2  70]]\nAccuracy Score: 97.07317073170731%\n"
     ]
    }
   ],
   "source": [
    "from sklearn.metrics import confusion_matrix, accuracy_score\n",
    "print(f'Confusion matrix:\\n {confusion_matrix(y_test, y_pred)}')\n",
    "print(f'Accuracy Score: {accuracy_score(y_test, y_pred)*100}%')"
   ]
  },
  {
   "cell_type": "code",
   "execution_count": 24,
   "metadata": {},
   "outputs": [],
   "source": [
    "#END OF KERNEL SVM\n",
    "#START OF RANDOM FOREST CLASSIFIER"
   ]
  },
  {
   "cell_type": "code",
   "execution_count": 25,
   "metadata": {},
   "outputs": [
    {
     "output_type": "execute_result",
     "data": {
      "text/plain": [
       "RandomForestClassifier(criterion='entropy', random_state=0)"
      ]
     },
     "metadata": {},
     "execution_count": 25
    }
   ],
   "source": [
    "from sklearn.ensemble import RandomForestClassifier\n",
    "RF_Classifier = RandomForestClassifier(criterion='entropy', n_estimators=100, random_state=0)\n",
    "RF_Classifier.fit(X_train, y_train)"
   ]
  },
  {
   "cell_type": "code",
   "execution_count": 26,
   "metadata": {},
   "outputs": [
    {
     "output_type": "stream",
     "name": "stdout",
     "text": [
      "[[2 2]\n [2 2]\n [2 2]\n [4 4]\n [2 2]\n [4 4]\n [2 2]\n [2 2]\n [4 4]\n [4 4]\n [2 2]\n [2 2]\n [4 4]\n [4 4]\n [2 2]\n [4 4]\n [2 2]\n [2 2]\n [2 2]\n [2 2]\n [2 2]\n [2 2]\n [2 2]\n [4 4]\n [4 4]\n [2 2]\n [2 2]\n [2 2]\n [4 4]\n [4 4]\n [2 2]\n [2 2]\n [4 4]\n [4 4]\n [2 2]\n [4 4]\n [2 2]\n [2 2]\n [4 4]\n [4 4]\n [4 4]\n [2 2]\n [2 2]\n [4 4]\n [2 2]\n [2 2]\n [2 2]\n [2 2]\n [4 4]\n [2 2]\n [2 2]\n [2 2]\n [4 4]\n [2 2]\n [2 2]\n [2 2]\n [4 4]\n [2 2]\n [2 2]\n [2 2]\n [4 4]\n [4 4]\n [2 2]\n [2 2]\n [2 2]\n [4 4]\n [2 2]\n [4 4]\n [4 4]\n [2 2]\n [2 2]\n [4 4]\n [2 2]\n [2 2]\n [4 4]\n [2 2]\n [2 2]\n [2 2]\n [2 2]\n [2 2]\n [2 2]\n [2 2]\n [4 4]\n [2 2]\n [4 4]\n [4 4]\n [2 2]\n [2 2]\n [2 2]\n [4 4]\n [2 2]\n [2 2]\n [4 4]\n [2 2]\n [2 2]\n [4 4]\n [4 4]\n [2 2]\n [2 2]\n [4 4]\n [2 2]\n [2 2]\n [4 4]\n [4 4]\n [2 2]\n [2 2]\n [2 2]\n [2 2]\n [4 4]\n [2 2]\n [4 4]\n [4 4]\n [2 2]\n [4 4]\n [2 2]\n [4 4]\n [2 2]\n [2 2]\n [2 2]\n [2 2]\n [4 4]\n [2 2]\n [4 4]\n [2 2]\n [2 2]\n [2 2]\n [2 2]\n [2 2]\n [4 4]\n [2 2]\n [2 2]\n [2 2]\n [2 2]\n [2 2]\n [2 2]\n [2 2]\n [4 4]\n [2 2]\n [4 4]\n [4 4]\n [2 4]\n [2 2]\n [4 4]\n [2 2]\n [2 2]\n [2 2]\n [2 2]\n [4 4]\n [2 2]\n [2 2]\n [2 2]\n [2 2]\n [2 2]\n [4 4]\n [2 2]\n [4 4]\n [2 2]\n [4 4]\n [2 2]\n [2 2]\n [4 4]\n [2 2]\n [4 4]\n [2 2]\n [4 4]\n [4 4]\n [2 2]\n [4 4]\n [2 2]\n [2 2]\n [2 2]\n [2 2]\n [2 2]\n [4 4]\n [2 2]\n [4 4]\n [4 4]\n [4 2]\n [4 4]\n [2 2]\n [4 4]\n [2 2]\n [2 2]\n [4 4]\n [2 2]\n [4 4]\n [4 4]\n [2 2]\n [2 2]\n [2 2]\n [2 4]\n [2 2]\n [4 2]\n [4 2]\n [2 2]\n [2 2]\n [2 2]\n [4 4]\n [2 2]\n [2 2]\n [4 4]\n [2 2]\n [4 4]\n [2 2]\n [4 2]]\n"
     ]
    }
   ],
   "source": [
    "y_pred = knn_Classifier.predict(X_test)\n",
    "y_pred_ = y_pred.reshape(len(y_pred), 1)\n",
    "print(np.concatenate((y_pred_, y_test_), 1))"
   ]
  },
  {
   "cell_type": "code",
   "execution_count": 27,
   "metadata": {},
   "outputs": [
    {
     "output_type": "stream",
     "name": "stdout",
     "text": [
      "Confusion matrix:\n [[129   4]\n [  2  70]]\nAccuracy Score: 97.07317073170731%\n"
     ]
    }
   ],
   "source": [
    "from sklearn.metrics import confusion_matrix, accuracy_score\n",
    "print(f'Confusion matrix:\\n {confusion_matrix(y_test, y_pred)}')\n",
    "print(f'Accuracy Score: {accuracy_score(y_test, y_pred)*100}%')"
   ]
  },
  {
   "cell_type": "code",
   "execution_count": 28,
   "metadata": {},
   "outputs": [],
   "source": [
    "#END OF RANDOM FOREST CLASSIFIER\n",
    "#START OF DECISION TREE CLASSIFICATION"
   ]
  },
  {
   "cell_type": "code",
   "execution_count": 29,
   "metadata": {},
   "outputs": [
    {
     "output_type": "execute_result",
     "data": {
      "text/plain": [
       "DecisionTreeClassifier(criterion='entropy', random_state=0)"
      ]
     },
     "metadata": {},
     "execution_count": 29
    }
   ],
   "source": [
    "from sklearn.tree import DecisionTreeClassifier\n",
    "DT_Clssifier = DecisionTreeClassifier(criterion='entropy', random_state=0)\n",
    "DT_Clssifier.fit(X_train, y_train)"
   ]
  },
  {
   "cell_type": "code",
   "execution_count": 30,
   "metadata": {},
   "outputs": [
    {
     "output_type": "stream",
     "name": "stdout",
     "text": [
      "[[2 2]\n [2 2]\n [2 2]\n [4 4]\n [2 2]\n [4 4]\n [2 2]\n [2 2]\n [4 4]\n [4 4]\n [2 2]\n [2 2]\n [4 4]\n [4 4]\n [2 2]\n [4 4]\n [2 2]\n [2 2]\n [2 2]\n [2 2]\n [2 2]\n [2 2]\n [2 2]\n [4 4]\n [4 4]\n [2 2]\n [2 2]\n [2 2]\n [4 4]\n [4 4]\n [2 2]\n [2 2]\n [4 4]\n [4 4]\n [2 2]\n [4 4]\n [2 2]\n [2 2]\n [4 4]\n [4 4]\n [4 4]\n [2 2]\n [2 2]\n [4 4]\n [2 2]\n [2 2]\n [2 2]\n [2 2]\n [4 4]\n [2 2]\n [2 2]\n [2 2]\n [4 4]\n [2 2]\n [2 2]\n [2 2]\n [4 4]\n [2 2]\n [2 2]\n [2 2]\n [4 4]\n [4 4]\n [2 2]\n [2 2]\n [2 2]\n [4 4]\n [2 2]\n [4 4]\n [4 4]\n [2 2]\n [2 2]\n [4 4]\n [2 2]\n [2 2]\n [4 4]\n [2 2]\n [2 2]\n [2 2]\n [2 2]\n [2 2]\n [2 2]\n [2 2]\n [4 4]\n [2 2]\n [4 4]\n [4 4]\n [2 2]\n [2 2]\n [2 2]\n [4 4]\n [2 2]\n [2 2]\n [4 4]\n [2 2]\n [2 2]\n [4 4]\n [4 4]\n [2 2]\n [2 2]\n [4 4]\n [2 2]\n [2 2]\n [4 4]\n [4 4]\n [2 2]\n [2 2]\n [2 2]\n [2 2]\n [4 4]\n [2 2]\n [4 4]\n [4 4]\n [2 2]\n [4 4]\n [2 2]\n [4 4]\n [2 2]\n [2 2]\n [2 2]\n [2 2]\n [4 4]\n [2 2]\n [4 4]\n [2 2]\n [2 2]\n [2 2]\n [2 2]\n [2 2]\n [4 4]\n [2 2]\n [2 2]\n [2 2]\n [2 2]\n [2 2]\n [2 2]\n [2 2]\n [4 4]\n [2 2]\n [4 4]\n [4 4]\n [2 4]\n [2 2]\n [4 4]\n [2 2]\n [2 2]\n [2 2]\n [2 2]\n [4 4]\n [2 2]\n [2 2]\n [2 2]\n [2 2]\n [2 2]\n [4 4]\n [2 2]\n [4 4]\n [2 2]\n [4 4]\n [2 2]\n [2 2]\n [4 4]\n [2 2]\n [4 4]\n [2 2]\n [4 4]\n [4 4]\n [2 2]\n [4 4]\n [2 2]\n [2 2]\n [2 2]\n [2 2]\n [2 2]\n [4 4]\n [2 2]\n [4 4]\n [4 4]\n [4 2]\n [4 4]\n [2 2]\n [4 4]\n [2 2]\n [2 2]\n [4 4]\n [2 2]\n [4 4]\n [4 4]\n [2 2]\n [2 2]\n [2 2]\n [2 4]\n [2 2]\n [4 2]\n [4 2]\n [2 2]\n [2 2]\n [2 2]\n [4 4]\n [2 2]\n [2 2]\n [4 4]\n [2 2]\n [4 4]\n [2 2]\n [4 2]]\n"
     ]
    }
   ],
   "source": [
    "y_pred = knn_Classifier.predict(X_test)\n",
    "y_pred_ = y_pred.reshape(len(y_pred), 1)\n",
    "print(np.concatenate((y_pred_, y_test_), 1))"
   ]
  },
  {
   "cell_type": "code",
   "execution_count": 31,
   "metadata": {},
   "outputs": [
    {
     "output_type": "stream",
     "name": "stdout",
     "text": [
      "Confusion matrix:\n [[129   4]\n [  2  70]]\nAccuracy Score: 97.07317073170731%\n"
     ]
    }
   ],
   "source": [
    "from sklearn.metrics import confusion_matrix, accuracy_score\n",
    "print(f'Confusion matrix:\\n {confusion_matrix(y_test, y_pred)}')\n",
    "print(f'Accuracy Score: {accuracy_score(y_test, y_pred)*100}%')"
   ]
  },
  {
   "cell_type": "code",
   "execution_count": 32,
   "metadata": {},
   "outputs": [],
   "source": [
    "#END OF DECISION TREE CLASSIFICATION"
   ]
  }
 ]
}